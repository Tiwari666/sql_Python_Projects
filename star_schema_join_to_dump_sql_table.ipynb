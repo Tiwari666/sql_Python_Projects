{
 "cells": [
  {
   "cell_type": "code",
   "execution_count": 1,
   "metadata": {},
   "outputs": [],
   "source": [
    "import mysql.connector\n",
    "\n",
    "mydb = mysql.connector.connect(\n",
    "  host=\"localhost\",\n",
    "  user=\"root\",\n",
    "  password=\"******\",\n",
    "  database=\"loan_default\"\n",
    ")"
   ]
  },
  {
   "cell_type": "code",
   "execution_count": 2,
   "metadata": {},
   "outputs": [],
   "source": [
    "mycursor = mydb.cursor()"
   ]
  },
  {
   "cell_type": "code",
   "execution_count": 20,
   "metadata": {},
   "outputs": [],
   "source": [
    "# Define schema for dimension tables\n",
    "credit_info_schema = \"\"\"\n",
    "CREATE TABLE IF NOT EXISTS Credit_Info_Dim (\n",
    "    Credit_Info_ID VARCHAR(255) PRIMARY KEY,\n",
    "    ID INTEGER,\n",
    "    Credit_Worthiness VARCHAR(255),\n",
    "    Open_Credit VARCHAR(255),\n",
    "    Credit_Type VARCHAR(255),\n",
    "    Co_Applicant_Credit_Type VARCHAR(255)\n",
    ");\n",
    "\"\"\"\n",
    "\n",
    "demographics_schema = \"\"\"\n",
    "CREATE TABLE IF NOT EXISTS Demographics_Dim (\n",
    "    Demographics_ID VARCHAR(255) PRIMARY KEY,\n",
    "    ID INTEGER,\n",
    "    Year INTEGER,\n",
    "    Gender VARCHAR(255),\n",
    "    Age VARCHAR(255)\n",
    ");\n",
    "\"\"\"\n",
    "\n",
    "loan_details_schema = \"\"\"\n",
    "CREATE TABLE IF NOT EXISTS Loan_Details_Dim (\n",
    "    Loan_Details_ID VARCHAR(255) PRIMARY KEY,\n",
    "    ID INTEGER,\n",
    "    Loan_Limit VARCHAR(255),\n",
    "    Approv_in_adv VARCHAR(255),\n",
    "    Loan_Type VARCHAR(255),\n",
    "    Loan_Purpose VARCHAR(255),\n",
    "    Occupancy_Type VARCHAR(255),\n",
    "    Total_Units VARCHAR(255)\n",
    ");\n",
    "\"\"\"\n",
    "\n",
    "other_details_schema = \"\"\"\n",
    "CREATE TABLE IF NOT EXISTS Other_Details_Dim (\n",
    "    Other_Details_ID VARCHAR(255) PRIMARY KEY,\n",
    "    ID INTEGER,\n",
    "    Business_or_Commercial VARCHAR(255),\n",
    "    Submission_of_Application VARCHAR(255),\n",
    "    Region VARCHAR(255),\n",
    "    Security_Type VARCHAR(255)\n",
    ");\n",
    "\"\"\"\n",
    "\n",
    "# Define schema for fact table\n",
    "loan_fact_schema = \"\"\"\n",
    "CREATE TABLE IF NOT EXISTS Loan_Fact (\n",
    "    ID INTEGER PRIMARY KEY,\n",
    "    Demographics_ID VARCHAR(255),\n",
    "    Loan_Details_ID VARCHAR(255),\n",
    "    Credit_Info_ID VARCHAR(255),\n",
    "    Other_Details_ID VARCHAR(255),\n",
    "    Income FLOAT,\n",
    "    LTV FLOAT,\n",
    "    DTIR1 FLOAT,\n",
    "    Loan_Amount FLOAT,\n",
    "    Rate_of_Interest FLOAT,\n",
    "    Term INTEGER,\n",
    "    Property_Value FLOAT,\n",
    "    Credit_Score INTEGER,\n",
    "    Status INTEGER,\n",
    "    FOREIGN KEY (Demographics_ID) REFERENCES Demographics_Dim(Demographics_ID),\n",
    "    FOREIGN KEY (Loan_Details_ID) REFERENCES Loan_Details_Dim(Loan_Details_ID),\n",
    "    FOREIGN KEY (Credit_Info_ID) REFERENCES Credit_Info_Dim(Credit_Info_ID),\n",
    "    FOREIGN KEY (Other_Details_ID) REFERENCES Other_Details_Dim(Other_Details_ID)\n",
    ");\n",
    "\"\"\"\n",
    "\n",
    "# Execute SQL queries to create tables\n",
    "mycursor.execute(credit_info_schema)\n",
    "mycursor.execute(demographics_schema)\n",
    "mycursor.execute(loan_details_schema)\n",
    "mycursor.execute(other_details_schema)\n",
    "mycursor.execute(loan_fact_schema)\n",
    "\n",
    "# Commit the changes\n",
    "mydb.commit()\n"
   ]
  },
  {
   "cell_type": "code",
   "execution_count": 4,
   "metadata": {},
   "outputs": [
    {
     "name": "stdout",
     "output_type": "stream",
     "text": [
      "Collecting sqlalchemy\n",
      "  Downloading SQLAlchemy-2.0.29-cp311-cp311-win_amd64.whl (2.1 MB)\n",
      "                                              0.0/2.1 MB ? eta -:--:--\n",
      "     -                                        0.1/2.1 MB 1.7 MB/s eta 0:00:02\n",
      "     ---                                      0.2/2.1 MB 2.4 MB/s eta 0:00:01\n",
      "     -----                                    0.3/2.1 MB 2.1 MB/s eta 0:00:01\n",
      "     --------                                 0.4/2.1 MB 2.4 MB/s eta 0:00:01\n",
      "     ------------                             0.7/2.1 MB 3.0 MB/s eta 0:00:01\n",
      "     ----------------                         0.9/2.1 MB 3.3 MB/s eta 0:00:01\n",
      "     -----------------------                  1.2/2.1 MB 3.9 MB/s eta 0:00:01\n",
      "     -----------------------------            1.5/2.1 MB 4.2 MB/s eta 0:00:01\n",
      "     -----------------------------------      1.8/2.1 MB 4.5 MB/s eta 0:00:01\n",
      "     ---------------------------------------  2.1/2.1 MB 4.5 MB/s eta 0:00:01\n",
      "     ---------------------------------------- 2.1/2.1 MB 4.4 MB/s eta 0:00:00\n",
      "Requirement already satisfied: typing-extensions>=4.6.0 in c:\\users\\narendra\\appdata\\roaming\\python\\python311\\site-packages (from sqlalchemy) (4.11.0)\n",
      "Collecting greenlet!=0.4.17 (from sqlalchemy)\n",
      "  Downloading greenlet-3.0.3-cp311-cp311-win_amd64.whl (292 kB)\n",
      "                                              0.0/292.8 kB ? eta -:--:--\n",
      "     -------------------------------------- 292.8/292.8 kB 6.0 MB/s eta 0:00:00\n",
      "Installing collected packages: greenlet, sqlalchemy\n",
      "Successfully installed greenlet-3.0.3 sqlalchemy-2.0.29\n",
      "Note: you may need to restart the kernel to use updated packages.\n"
     ]
    },
    {
     "name": "stderr",
     "output_type": "stream",
     "text": [
      "\n",
      "[notice] A new release of pip is available: 23.1.2 -> 24.0\n",
      "[notice] To update, run: python.exe -m pip install --upgrade pip\n"
     ]
    }
   ],
   "source": [
    "%pip install sqlalchemy"
   ]
  },
  {
   "cell_type": "code",
   "execution_count": 5,
   "metadata": {},
   "outputs": [],
   "source": [
    "from sqlalchemy import create_engine"
   ]
  },
  {
   "cell_type": "code",
   "execution_count": 6,
   "metadata": {},
   "outputs": [
    {
     "name": "stdout",
     "output_type": "stream",
     "text": [
      "Requirement already satisfied: pandas in c:\\users\\narendra\\appdata\\local\\programs\\python\\python311\\lib\\site-packages (2.2.1)\n",
      "Requirement already satisfied: numpy<2,>=1.23.2 in c:\\users\\narendra\\appdata\\local\\programs\\python\\python311\\lib\\site-packages (from pandas) (1.26.4)\n",
      "Requirement already satisfied: python-dateutil>=2.8.2 in c:\\users\\narendra\\appdata\\roaming\\python\\python311\\site-packages (from pandas) (2.9.0.post0)\n",
      "Requirement already satisfied: pytz>=2020.1 in c:\\users\\narendra\\appdata\\local\\programs\\python\\python311\\lib\\site-packages (from pandas) (2024.1)\n",
      "Requirement already satisfied: tzdata>=2022.7 in c:\\users\\narendra\\appdata\\local\\programs\\python\\python311\\lib\\site-packages (from pandas) (2024.1)\n",
      "Requirement already satisfied: six>=1.5 in c:\\users\\narendra\\appdata\\roaming\\python\\python311\\site-packages (from python-dateutil>=2.8.2->pandas) (1.16.0)\n",
      "Note: you may need to restart the kernel to use updated packages.\n"
     ]
    },
    {
     "name": "stderr",
     "output_type": "stream",
     "text": [
      "\n",
      "[notice] A new release of pip is available: 23.1.2 -> 24.0\n",
      "[notice] To update, run: python.exe -m pip install --upgrade pip\n"
     ]
    }
   ],
   "source": [
    "%pip install pandas\n",
    "import pandas as pd"
   ]
  },
  {
   "cell_type": "code",
   "execution_count": 8,
   "metadata": {},
   "outputs": [],
   "source": [
    "# Read dimension tables from CSV files\n",
    "creditinfo_dim_df = pd.read_csv(r'C:\\Users\\Narendra\\Desktop\\DS\\RISK_pyspark_vs\\Credit_Info_Dim.csv')\n",
    "demographic_dim_df = pd.read_csv(r'C:\\Users\\Narendra\\Desktop\\DS\\RISK_pyspark_vs\\Demographic_Dimension.csv')\n",
    "loanapp_dim_df = pd.read_csv(r'C:\\Users\\Narendra\\Desktop\\DS\\RISK_pyspark_vs\\Loan_Application_Dimension.csv')\n",
    "otherdetail_dim_df = pd.read_csv(r'C:\\Users\\Narendra\\Desktop\\DS\\RISK_pyspark_vs\\Other_Details_Dim.csv')\n",
    "\n",
    "# Read fact table from CSV file\n",
    "loan_fact_df = pd.read_csv(r'C:\\Users\\Narendra\\Desktop\\DS\\RISK_pyspark_vs\\Loan_Fact_Table.csv')"
   ]
  },
  {
   "cell_type": "code",
   "execution_count": 22,
   "metadata": {},
   "outputs": [
    {
     "data": {
      "text/html": [
       "<div>\n",
       "<style scoped>\n",
       "    .dataframe tbody tr th:only-of-type {\n",
       "        vertical-align: middle;\n",
       "    }\n",
       "\n",
       "    .dataframe tbody tr th {\n",
       "        vertical-align: top;\n",
       "    }\n",
       "\n",
       "    .dataframe thead th {\n",
       "        text-align: right;\n",
       "    }\n",
       "</style>\n",
       "<table border=\"1\" class=\"dataframe\">\n",
       "  <thead>\n",
       "    <tr style=\"text-align: right;\">\n",
       "      <th></th>\n",
       "      <th>ID</th>\n",
       "      <th>Credit_Info_ID</th>\n",
       "      <th>Demographics_ID</th>\n",
       "      <th>Loan_Details_ID</th>\n",
       "      <th>Other_Details_ID</th>\n",
       "      <th>loan_amount</th>\n",
       "      <th>rate_of_interest</th>\n",
       "      <th>term</th>\n",
       "      <th>property_value</th>\n",
       "      <th>income</th>\n",
       "      <th>Credit_Score</th>\n",
       "      <th>LTV</th>\n",
       "      <th>Status</th>\n",
       "      <th>dtir1</th>\n",
       "    </tr>\n",
       "  </thead>\n",
       "  <tbody>\n",
       "    <tr>\n",
       "      <th>0</th>\n",
       "      <td>24890</td>\n",
       "      <td>C1</td>\n",
       "      <td>d1</td>\n",
       "      <td>L1</td>\n",
       "      <td>O1</td>\n",
       "      <td>116500</td>\n",
       "      <td>NaN</td>\n",
       "      <td>360.0</td>\n",
       "      <td>118000.0</td>\n",
       "      <td>1740.0</td>\n",
       "      <td>758</td>\n",
       "      <td>98.728814</td>\n",
       "      <td>1</td>\n",
       "      <td>45.0</td>\n",
       "    </tr>\n",
       "    <tr>\n",
       "      <th>1</th>\n",
       "      <td>24891</td>\n",
       "      <td>C2</td>\n",
       "      <td>d2</td>\n",
       "      <td>L2</td>\n",
       "      <td>O2</td>\n",
       "      <td>206500</td>\n",
       "      <td>NaN</td>\n",
       "      <td>360.0</td>\n",
       "      <td>NaN</td>\n",
       "      <td>4980.0</td>\n",
       "      <td>552</td>\n",
       "      <td>NaN</td>\n",
       "      <td>1</td>\n",
       "      <td>NaN</td>\n",
       "    </tr>\n",
       "    <tr>\n",
       "      <th>2</th>\n",
       "      <td>24892</td>\n",
       "      <td>C3</td>\n",
       "      <td>d3</td>\n",
       "      <td>L3</td>\n",
       "      <td>O3</td>\n",
       "      <td>406500</td>\n",
       "      <td>4.56</td>\n",
       "      <td>360.0</td>\n",
       "      <td>508000.0</td>\n",
       "      <td>9480.0</td>\n",
       "      <td>834</td>\n",
       "      <td>80.019685</td>\n",
       "      <td>0</td>\n",
       "      <td>46.0</td>\n",
       "    </tr>\n",
       "    <tr>\n",
       "      <th>3</th>\n",
       "      <td>24893</td>\n",
       "      <td>C4</td>\n",
       "      <td>d4</td>\n",
       "      <td>L4</td>\n",
       "      <td>O4</td>\n",
       "      <td>456500</td>\n",
       "      <td>4.25</td>\n",
       "      <td>360.0</td>\n",
       "      <td>658000.0</td>\n",
       "      <td>11880.0</td>\n",
       "      <td>587</td>\n",
       "      <td>69.376900</td>\n",
       "      <td>0</td>\n",
       "      <td>42.0</td>\n",
       "    </tr>\n",
       "    <tr>\n",
       "      <th>4</th>\n",
       "      <td>24894</td>\n",
       "      <td>C5</td>\n",
       "      <td>d5</td>\n",
       "      <td>L5</td>\n",
       "      <td>O5</td>\n",
       "      <td>696500</td>\n",
       "      <td>4.00</td>\n",
       "      <td>360.0</td>\n",
       "      <td>758000.0</td>\n",
       "      <td>10440.0</td>\n",
       "      <td>602</td>\n",
       "      <td>91.886544</td>\n",
       "      <td>0</td>\n",
       "      <td>39.0</td>\n",
       "    </tr>\n",
       "  </tbody>\n",
       "</table>\n",
       "</div>"
      ],
      "text/plain": [
       "      ID Credit_Info_ID Demographics_ID Loan_Details_ID Other_Details_ID  \\\n",
       "0  24890             C1              d1              L1               O1   \n",
       "1  24891             C2              d2              L2               O2   \n",
       "2  24892             C3              d3              L3               O3   \n",
       "3  24893             C4              d4              L4               O4   \n",
       "4  24894             C5              d5              L5               O5   \n",
       "\n",
       "   loan_amount  rate_of_interest   term  property_value   income  \\\n",
       "0       116500               NaN  360.0        118000.0   1740.0   \n",
       "1       206500               NaN  360.0             NaN   4980.0   \n",
       "2       406500              4.56  360.0        508000.0   9480.0   \n",
       "3       456500              4.25  360.0        658000.0  11880.0   \n",
       "4       696500              4.00  360.0        758000.0  10440.0   \n",
       "\n",
       "   Credit_Score        LTV  Status  dtir1  \n",
       "0           758  98.728814       1   45.0  \n",
       "1           552        NaN       1    NaN  \n",
       "2           834  80.019685       0   46.0  \n",
       "3           587  69.376900       0   42.0  \n",
       "4           602  91.886544       0   39.0  "
      ]
     },
     "execution_count": 22,
     "metadata": {},
     "output_type": "execute_result"
    }
   ],
   "source": [
    "loan_fact_df.head(5)"
   ]
  },
  {
   "cell_type": "code",
   "execution_count": 15,
   "metadata": {},
   "outputs": [],
   "source": [
    "from sqlalchemy import create_engine\n",
    "\n",
    "# Step 2: Create a SQLAlchemy engine to connect to the MySQL database\n",
    "engine = create_engine(\"mysql+mysqlconnector://root:************/loan_default\")"
   ]
  },
  {
   "cell_type": "code",
   "execution_count": 16,
   "metadata": {},
   "outputs": [
    {
     "name": "stderr",
     "output_type": "stream",
     "text": [
      "C:\\Users\\Narendra\\AppData\\Local\\Temp\\ipykernel_6688\\2161398014.py:4: UserWarning: The provided table name 'Credit_Info_Dim' is not found exactly as such in the database after writing the table, possibly due to case sensitivity issues. Consider using lower case table names.\n",
      "  creditinfo_dim_df.to_sql('Credit_Info_Dim', con=engine, if_exists='append', index=False)\n",
      "C:\\Users\\Narendra\\AppData\\Local\\Temp\\ipykernel_6688\\2161398014.py:7: UserWarning: The provided table name 'Demographics_Dim' is not found exactly as such in the database after writing the table, possibly due to case sensitivity issues. Consider using lower case table names.\n",
      "  demographic_dim_df.to_sql('Demographics_Dim', con=engine, if_exists='append', index=False)\n",
      "C:\\Users\\Narendra\\AppData\\Local\\Temp\\ipykernel_6688\\2161398014.py:10: UserWarning: The provided table name 'Loan_Details_Dim' is not found exactly as such in the database after writing the table, possibly due to case sensitivity issues. Consider using lower case table names.\n",
      "  loanapp_dim_df.to_sql('Loan_Details_Dim', con=engine, if_exists='append', index=False)\n",
      "C:\\Users\\Narendra\\AppData\\Local\\Temp\\ipykernel_6688\\2161398014.py:13: UserWarning: The provided table name 'Other_Details_Dim' is not found exactly as such in the database after writing the table, possibly due to case sensitivity issues. Consider using lower case table names.\n",
      "  otherdetail_dim_df.to_sql('Other_Details_Dim', con=engine, if_exists='append', index=False)\n",
      "C:\\Users\\Narendra\\AppData\\Local\\Temp\\ipykernel_6688\\2161398014.py:16: UserWarning: The provided table name 'Loan_Fact' is not found exactly as such in the database after writing the table, possibly due to case sensitivity issues. Consider using lower case table names.\n",
      "  loan_fact_df.to_sql('Loan_Fact', con=engine, if_exists='append', index=False)\n"
     ]
    },
    {
     "data": {
      "text/plain": [
       "148670"
      ]
     },
     "execution_count": 16,
     "metadata": {},
     "output_type": "execute_result"
    }
   ],
   "source": [
    "# Step 3: Convert the Pandas DataFrame to a format for MySQL table insertion\n",
    "\n",
    "# Convert creditinfo_dim_df\n",
    "creditinfo_dim_df.to_sql('Credit_Info_Dim', con=engine, if_exists='append', index=False)\n",
    "\n",
    "# Convert demographic_dim_df\n",
    "demographic_dim_df.to_sql('Demographics_Dim', con=engine, if_exists='append', index=False)\n",
    "\n",
    "# Convert loanapp_dim_df\n",
    "loanapp_dim_df.to_sql('Loan_Details_Dim', con=engine, if_exists='append', index=False)\n",
    "\n",
    "# Convert otherdetail_dim_df\n",
    "otherdetail_dim_df.to_sql('Other_Details_Dim', con=engine, if_exists='append', index=False)\n",
    "\n",
    "# Convert loan_fact_df\n",
    "loan_fact_df.to_sql('Loan_Fact', con=engine, if_exists='append', index=False)"
   ]
  },
  {
   "cell_type": "code",
   "execution_count": 17,
   "metadata": {},
   "outputs": [],
   "source": [
    "# Execute the SQL query to join tables\n",
    "mycursor.execute(\"\"\"\n",
    "    CREATE TABLE IF NOT EXISTS risk_join AS\n",
    "    SELECT\n",
    "        f.ID,\n",
    "        d.Year,\n",
    "        d.Gender,\n",
    "        d.Age,\n",
    "        f.Income,\n",
    "        f.LTV,\n",
    "        f.DTIR1,\n",
    "        ld.Loan_Limit,\n",
    "        ld.Approv_in_adv,\n",
    "        ld.Loan_Type,\n",
    "        ld.Loan_Purpose,\n",
    "        ld.Occupancy_Type,\n",
    "        ld.Total_Units,\n",
    "        ci.Credit_Worthiness,\n",
    "        ci.Open_Credit,\n",
    "        ci.Credit_Type,\n",
    "        ci.Co_Applicant_Credit_Type,\n",
    "        od.Business_or_Commercial,\n",
    "        od.Submission_of_Application,\n",
    "        od.Region,\n",
    "        od.Security_Type,\n",
    "        f.Status\n",
    "    FROM\n",
    "        Loan_Fact f\n",
    "    JOIN Demographics_Dim d ON f.ID = d.ID\n",
    "    JOIN Loan_Details_Dim ld ON f.ID = ld.ID\n",
    "    JOIN Credit_Info_Dim ci ON f.ID = ci.ID\n",
    "    JOIN Other_Details_Dim od ON f.ID = od.ID\n",
    "\"\"\")"
   ]
  },
  {
   "cell_type": "code",
   "execution_count": 23,
   "metadata": {},
   "outputs": [],
   "source": [
    "# Close the cursor and database connection\n",
    "mycursor.close()\n",
    "mydb.close()"
   ]
  }
 ],
 "metadata": {
  "kernelspec": {
   "display_name": "Python 3",
   "language": "python",
   "name": "python3"
  },
  "language_info": {
   "codemirror_mode": {
    "name": "ipython",
    "version": 3
   },
   "file_extension": ".py",
   "mimetype": "text/x-python",
   "name": "python",
   "nbconvert_exporter": "python",
   "pygments_lexer": "ipython3",
   "version": "3.11.4"
  },
  "orig_nbformat": 4,
  "vscode": {
   "interpreter": {
    "hash": "2f012c67fe039373d7c9c2eab5f43fd918b28d3f39f7db4075db162fa675ad53"
   }
  }
 },
 "nbformat": 4,
 "nbformat_minor": 2
}
